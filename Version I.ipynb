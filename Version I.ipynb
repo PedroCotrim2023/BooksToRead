{
  "cells": [
    {
      "cell_type": "code",
      "execution_count": 1,
      "id": "429f9d62-ac84-4964-bbba-37a534ca461f",
      "metadata": {
        "trusted": true
      },
      "outputs": [],
      "source": [
        "#print(\"Books to read at 2024\")"
      ]
    },
    {
      "cell_type": "code",
      "execution_count": 2,
      "id": "cdf5776a-f4d0-4041-a0f9-3a84f9f7661e",
      "metadata": {
        "trusted": true
      },
      "outputs": [
        {
          "data": {
            "text/plain": [
              "<PyodideFuture pending cb=[WebLoop._decrement_in_progress()]>"
            ]
          },
          "execution_count": 2,
          "metadata": {},
          "output_type": "execute_result"
        }
      ],
      "source": [
        "#print(\"January:\")\n",
        "input(\"Name of book: \")\n",
        "input(\"Name of book: \")\n",
        "input(\"Name of book: \")\n",
        "input(\"Name of book: \")\n",
        "input(\"Name of book: \")"
      ]
    },
    {
      "cell_type": "code",
      "execution_count": 3,
      "id": "e09892b9-b01c-45e5-bd36-7ab5953dcff7",
      "metadata": {
        "trusted": true
      },
      "outputs": [
        {
          "data": {
            "text/plain": [
              "<PyodideFuture pending cb=[WebLoop._decrement_in_progress()]>"
            ]
          },
          "execution_count": 3,
          "metadata": {},
          "output_type": "execute_result"
        }
      ],
      "source": [
        "#print(\"February:\")\n",
        "input(\"Name of book: \")\n",
        "input(\"Name of book: \")\n",
        "input(\"Name of book: \")\n",
        "input(\"Name of book: \")\n",
        "input(\"Name of book: \")"
      ]
    },
    {
      "cell_type": "code",
      "execution_count": 4,
      "id": "47695b10-bed5-491a-8dd6-703ef953df54",
      "metadata": {
        "trusted": true
      },
      "outputs": [
        {
          "data": {
            "text/plain": [
              "<PyodideFuture pending cb=[WebLoop._decrement_in_progress()]>"
            ]
          },
          "execution_count": 4,
          "metadata": {},
          "output_type": "execute_result"
        }
      ],
      "source": [
        "#print(\"March:\")\n",
        "input(\"Name of book: \")\n",
        "input(\"Name of book: \")\n",
        "input(\"Name of book: \")\n",
        "input(\"Name of book: \")\n",
        "input(\"Name of book: \")"
      ]
    },
    {
      "cell_type": "code",
      "execution_count": 5,
      "id": "44c6e274-67c5-4035-991d-db1507d92cf4",
      "metadata": {
        "trusted": true
      },
      "outputs": [
        {
          "data": {
            "text/plain": [
              "<PyodideFuture pending cb=[WebLoop._decrement_in_progress()]>"
            ]
          },
          "execution_count": 5,
          "metadata": {},
          "output_type": "execute_result"
        }
      ],
      "source": [
        "#print(\"April:\")\n",
        "input(\"Name of book: \")\n",
        "input(\"Name of book: \")\n",
        "input(\"Name of book: \")\n",
        "input(\"Name of book: \")\n",
        "input(\"Name of book: \")"
      ]
    },
    {
      "cell_type": "code",
      "execution_count": 6,
      "id": "263ef2b2-a732-449b-9d18-392d096a002e",
      "metadata": {
        "trusted": true
      },
      "outputs": [
        {
          "data": {
            "text/plain": [
              "<PyodideFuture pending cb=[WebLoop._decrement_in_progress()]>"
            ]
          },
          "execution_count": 6,
          "metadata": {},
          "output_type": "execute_result"
        }
      ],
      "source": [
        "#print(\"May:\")\n",
        "input(\"Name of book: \")\n",
        "input(\"Name of book: \")\n",
        "input(\"Name of book: \")\n",
        "input(\"Name of book: \")\n",
        "input(\"Name of book: \")"
      ]
    },
    {
      "cell_type": "code",
      "execution_count": 7,
      "id": "d03be7d9-e96e-436a-a97a-de2697a61b07",
      "metadata": {
        "trusted": true
      },
      "outputs": [
        {
          "data": {
            "text/plain": [
              "<PyodideFuture pending cb=[WebLoop._decrement_in_progress()]>"
            ]
          },
          "execution_count": 7,
          "metadata": {},
          "output_type": "execute_result"
        }
      ],
      "source": [
        "#print(\"June:\")\n",
        "input(\"Name of book: \")\n",
        "input(\"Name of book: \")\n",
        "input(\"Name of book: \")\n",
        "input(\"Name of book: \")\n",
        "input(\"Name of book: \")"
      ]
    },
    {
      "cell_type": "code",
      "execution_count": 8,
      "id": "dd7ccc02-a72f-4680-a2bf-4de7351ada01",
      "metadata": {
        "trusted": true
      },
      "outputs": [
        {
          "data": {
            "text/plain": [
              "<PyodideFuture pending cb=[WebLoop._decrement_in_progress()]>"
            ]
          },
          "execution_count": 8,
          "metadata": {},
          "output_type": "execute_result"
        }
      ],
      "source": [
        "#print(\"July:\")\n",
        "input(\"Name of book: \")\n",
        "input(\"Name of book: \")\n",
        "input(\"Name of book: \")\n",
        "input(\"Name of book: \")\n",
        "input(\"Name of book: \")"
      ]
    },
    {
      "cell_type": "code",
      "execution_count": 9,
      "id": "e109afe4-fd55-4942-864a-4d980734398d",
      "metadata": {
        "trusted": true
      },
      "outputs": [
        {
          "data": {
            "text/plain": [
              "<PyodideFuture pending cb=[WebLoop._decrement_in_progress()]>"
            ]
          },
          "execution_count": 9,
          "metadata": {},
          "output_type": "execute_result"
        }
      ],
      "source": [
        "#print(\"August:\")\n",
        "input(\"Name of book: \")\n",
        "input(\"Name of book: \")\n",
        "input(\"Name of book: \")\n",
        "input(\"Name of book: \")\n",
        "input(\"Name of book: \")"
      ]
    },
    {
      "cell_type": "code",
      "execution_count": 10,
      "id": "cc319ee9-d7ae-471e-ab41-2306ee4007f9",
      "metadata": {
        "trusted": true
      },
      "outputs": [
        {
          "data": {
            "text/plain": [
              "<PyodideFuture pending cb=[WebLoop._decrement_in_progress()]>"
            ]
          },
          "execution_count": 10,
          "metadata": {},
          "output_type": "execute_result"
        }
      ],
      "source": [
        "#print(\"September:\")\n",
        "input(\"Name of book: \")\n",
        "input(\"Name of book: \")\n",
        "input(\"Name of book: \")\n",
        "input(\"Name of book: \")\n",
        "input(\"Name of book: \")"
      ]
    },
    {
      "cell_type": "code",
      "execution_count": 11,
      "id": "e7c6f581-f2f2-4460-aad0-35adfd42ad13",
      "metadata": {
        "trusted": true
      },
      "outputs": [
        {
          "data": {
            "text/plain": [
              "<PyodideFuture pending cb=[WebLoop._decrement_in_progress()]>"
            ]
          },
          "execution_count": 11,
          "metadata": {},
          "output_type": "execute_result"
        }
      ],
      "source": [
        "#print(\"Octuber:\")\n",
        "input(\"Name of book: \")\n",
        "input(\"Name of book: \")\n",
        "input(\"Name of book: \")\n",
        "input(\"Name of book: \")\n",
        "input(\"Name of book: \")"
      ]
    },
    {
      "cell_type": "code",
      "execution_count": 12,
      "id": "f2ad4a84-d837-44c1-b4bc-fbcbcb2311cf",
      "metadata": {
        "trusted": true
      },
      "outputs": [
        {
          "data": {
            "text/plain": [
              "<PyodideFuture pending cb=[WebLoop._decrement_in_progress()]>"
            ]
          },
          "execution_count": 12,
          "metadata": {},
          "output_type": "execute_result"
        }
      ],
      "source": [
        "#print(\"November:\")\n",
        "input(\"Name of book: \")\n",
        "input(\"Name of book: \")\n",
        "input(\"Name of book: \")\n",
        "input(\"Name of book: \")\n",
        "input(\"Name of book: \")"
      ]
    },
    {
      "cell_type": "code",
      "execution_count": 13,
      "id": "caf69a83-7fee-402e-b141-5717d30a9919",
      "metadata": {
        "trusted": true
      },
      "outputs": [
        {
          "data": {
            "text/plain": [
              "<PyodideFuture pending cb=[WebLoop._decrement_in_progress()]>"
            ]
          },
          "execution_count": 13,
          "metadata": {},
          "output_type": "execute_result"
        }
      ],
      "source": [
        "#print(\"December:\")\n",
        "input(\"Name of book: \")\n",
        "input(\"Name of book: \")\n",
        "input(\"Name of book: \")\n",
        "input(\"Name of book: \")\n",
        "input(\"Name of book: \")"
      ]
    }
  ],
  "metadata": {
    "kernelspec": {
      "display_name": "Python (Pyodide)",
      "language": "python",
      "name": "python"
    },
    "language_info": {
      "codemirror_mode": {
        "name": "python",
        "version": 3
      },
      "file_extension": ".py",
      "mimetype": "text/x-python",
      "name": "python",
      "nbconvert_exporter": "python",
      "pygments_lexer": "ipython3",
      "version": "3.8"
    }
  },
  "nbformat": 4,
  "nbformat_minor": 5
}
